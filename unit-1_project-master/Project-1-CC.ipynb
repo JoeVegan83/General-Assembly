{
 "cells": [
  {
   "cell_type": "markdown",
   "metadata": {},
   "source": [
    "<img src=\"http://imgur.com/1ZcRyrc.png\" style=\"float: left; margin: 20px; height: 55px\">\n",
    "\n",
    "# Project 1: Python Coding Exercises\n",
    "\n",
    "_Authors: Joseph Nelson (DC) _\n",
    "\n",
    "---"
   ]
  },
  {
   "cell_type": "markdown",
   "metadata": {},
   "source": [
    "The following code challenges are drawn from common exercises used in technical interviews.\n",
    "\n",
    "Please note that there may be several ways to approach each challenge. If you get stuck, try mapping out your approach in pseudocode first. Finally, while solutions to problems like these may be found online, remember that if you copy/paste code that you can't explain, you'll be missing out on the point of the project. The only way to truly learn a new skill is through practice, trial, and error - we can only help you improve by understanding where you are having trouble."
   ]
  },
  {
   "cell_type": "markdown",
   "metadata": {},
   "source": [
    "### Challenge 1: Largest Palindrome\n",
    "A palindromic number reads the same both ways. For example, 1234321 is a palindrome. The largest palindrome made from the product of two two-digit numbers is 9009 = 91 × 99. Find the largest palindrome made from the product of two three-digit numbers. Afterward, write a brief explanation walking through your code's logic in markdown."
   ]
  },
  {
   "cell_type": "code",
   "execution_count": 1,
   "metadata": {},
   "outputs": [
    {
     "name": "stdout",
     "output_type": "stream",
     "text": [
      "906609\n"
     ]
    }
   ],
   "source": [
    "lists = []\n",
    "largest_num = 0\n",
    "for i in range(100,1000):\n",
    "    for n in range(100,1000):\n",
    "        num = i*n\n",
    "        num = str(num)\n",
    "        rev_num = num[::-1]\n",
    "        if num == rev_num:\n",
    "            lists.append(num)\n",
    "for i in lists:\n",
    "    if int(i) > largest_num:\n",
    "        largest_num = int(i)\n",
    "            \n",
    "print(largest_num)\n",
    "#First, I am creating an empty list and setting a new variable equal to 0 for future usage.¶\n",
    "#Since I am seeking a product of two three-digit numbers, I will need to test numbers in the range(100,1000), which does not include 1,000.\n",
    "#For each of the first number chosen, I will test the range of the next number (n in range(100,1000)).\n",
    "#I will create a new variable, num, and set it equal to the product of the two chosen three-digit numbers (i * n).\n",
    "#We will now turn the product into a string to compare the characters. We will create a variable, rev_num, which is the reverse string of num (num[::-1]).\n",
    "#If the string of the product of i*n is equal to its reverse string, this number is a palindrome. We will then add the product to the list, lists.\n",
    "#Once will have gone through all of the possibilities of i*n, we will review each item, i, in the list, lists.\n",
    "#If the integer, i, is greater than the set variable, it becomes the largest value. The idea is to continually seek the largest palindrome possible.\n",
    "#Lastly, we print the value of the set variable, which is the largest palindrome of i*n. This is 906609\n"
   ]
  },
  {
   "cell_type": "raw",
   "metadata": {},
   "source": [
    "# Challenge 2: Summation of Primes\n",
    "The sum of the primes below 10 is 2 + 3 + 5 + 7 = 17. Find the sum of all the primes below 2,000. Afterward, write a brief explanation walking through your code's logic in markdown."
   ]
  },
  {
   "cell_type": "code",
   "execution_count": 5,
   "metadata": {},
   "outputs": [
    {
     "name": "stdout",
     "output_type": "stream",
     "text": [
      "277050\n"
     ]
    }
   ],
   "source": [
    "summation = 0\n",
    "i = 2\n",
    "while i < 2000:\n",
    "    n = 2\n",
    "    while n < 2000:\n",
    "        number = i%n\n",
    "        if number == 0:\n",
    "            if n < i:\n",
    "                n = 2000\n",
    "            elif n == i:\n",
    "                summation = summation + n\n",
    "                n = 2000\n",
    "        else:\n",
    "            n += 1\n",
    "    \n",
    "    i = i+ 1\n",
    "\n",
    "print(summation)\n",
    "#We will need a summation of prime number so we will create a new variable and set it equal to 0. The first prime number is 2, so we will set our other new variable accordingly.\n",
    "#In order for a number to be prime, the number, i, will only have factors of itself and 1. We will create a loop that tests each number, i, against another number, n, all being between 2 and 1999.\n",
    "#For a number to be a factor of i, the remainer of i/n must equal zero. This also means that n values larger than i will always produce a positive remainder, thereby not being a factor of i.\n",
    "#If n is a factor of i and smaller than i, i cannot be a prime number. We will set n=2000 and chose another i value.\n",
    "#If n is a factor of i and n equals i, we know that no n values less than the current n value are less than i, so i is a prime number.\n",
    "#We will now add the prime number, n (equal to i), to the summation total and end the n value search for this i value.\n",
    "#However, n is not a factor of i, we will add 1 to the value of n until either i%n = 0 or n = 2000.\n",
    "#Once n = 2000, we will test the next i value and set n=2, the smallest integer larger than 1. \n",
    "#We will then print the summation total. The total = 277050"
   ]
  },
  {
   "cell_type": "markdown",
   "metadata": {},
   "source": [
    "### Challenge 3: Multiples of 3 and 5\n",
    "If we list all of the natural numbers below 10 that are multiples of 3 or 5, we get 3, 5, 6, and 9. The sum of these multiples is 23. Find the sum of all the multiples of 3 and 5 below 1,000. Afterward, write a brief explanation walking through your code's logic in markdown."
   ]
  },
  {
   "cell_type": "code",
   "execution_count": 7,
   "metadata": {},
   "outputs": [
    {
     "name": "stdout",
     "output_type": "stream",
     "text": [
      "233168\n"
     ]
    }
   ],
   "source": [
    "total = 0\n",
    "count = 0\n",
    "while count < 1000:\n",
    "    if count % 3 == 0 or count % 5== 0:\n",
    "        total = total + count\n",
    "        count +=1\n",
    "    else:\n",
    "        count += 1\n",
    "\n",
    "print(total)\n",
    "#We will set a total value equal to 0 and a count equal to 0 to begin out problem. We want to test all natural numbers that are less than 1000.\n",
    "#We will create a loop while the count < 1000 and add a value of one to the count for each iteration. \n",
    "#If a number, count, is a multiple of 3, then count%3 = 0. For 5, count%5 = 0. If 'count' is a multiple of 3 and/or 5, it is added to the total.\n",
    "#We continue to test each number until count is 1,000, then print out the sum of our total. The sum is 233168."
   ]
  },
  {
   "cell_type": "markdown",
   "metadata": {},
   "source": [
    "### Challenge 4: String Compressor\n",
    "Implement a method to perform basic string compression using the counts of repeated characters. (This is called run-length encoding.) For example, the string \"aabcccccaaa\" would become a2b1c5a3. If the “compressed” string would not become smaller than the original string, your method should return the original string. You can assume the string has only uppercase and lowercase letters (a–z). Specify whether your solution is case sensitive or case insensitive and what you would need to change to make it the other. Afterward, write a brief explanation walking through your code's logic in markdown."
   ]
  },
  {
   "cell_type": "code",
   "execution_count": 9,
   "metadata": {},
   "outputs": [
    {
     "name": "stdout",
     "output_type": "stream",
     "text": [
      "b2a2d2e2f6F2\n"
     ]
    }
   ],
   "source": [
    "def compressor(string):\n",
    "    count = 0\n",
    "    new_string = ''\n",
    "    for i in string: \n",
    "        if count ==0:\n",
    "            x = str(i)\n",
    "            count += 1\n",
    "        else:\n",
    "            if i == x:\n",
    "                count += 1\n",
    "            else:\n",
    "                new = x + str(count)\n",
    "                new_string += new\n",
    "                x = str(i)\n",
    "                count = 1\n",
    "    new = x + str(count)\n",
    "    new_string += new\n",
    "    \n",
    "    if len(new_string) >= len(string):\n",
    "        print(string)\n",
    "    else:\n",
    "        print(new_string)\n",
    "    \n",
    "compressor('bbaaddeeffffffFF')        \n",
    "\n",
    "#We will create a function, compressor, that will take a string and review the number of characters in succession. \n",
    "#We will create a new variable, count, to add the number of times a number is there. We will also create a new string that shows the character and the number of times that it is listed in order.\n",
    "#We will review each character in order. Initially, a character is set as a string, x (if count ==0).\n",
    "#Count will now equal one since the character has been seen at least once. All of the rest of the characters will follow the 'else' directions since count != 0.\n",
    "#If the next character is the same as the last character, we add one to the count and review the next character. \n",
    "#If the next character is different, the last character and the string of the count are combined to form a string, new.\n",
    "#The string, new, is added to the string, new_string. Next, the string of the new character is set to x and the count is 1.\n",
    "#The last character succession is not added to the new_string string, so we will have to add an additional 'new' string to the total.\n",
    "#We only want the 'new_string' to represent the original string if it has less characters than the original string. \n",
    "#If the length of the 'new_string' string is equal to or greater than the length of the original string, we will print out the original string.\n",
    "#If the previous case is not true, we will print out new_string.\n",
    "#We will now run the function with a string, bbaaddeeffffffFF. The answer is b2a2d2e2f6F2.         "
   ]
  },
  {
   "cell_type": "markdown",
   "metadata": {},
   "source": [
    "### *BONUS* Challenge: FizzBuzz\n",
    "Write a program that prints all of the numbers from 1 to 100. For multiples of 3, instead of the number, print \"Fizz;\" for multiples of 5, print \"Buzz.\" For numbers that are multiples of both 3 and 5, print \"FizzBuzz.\" Afterward, write a brief explanation walking through your code's logic in markdown."
   ]
  },
  {
   "cell_type": "code",
   "execution_count": 10,
   "metadata": {},
   "outputs": [
    {
     "name": "stdout",
     "output_type": "stream",
     "text": [
      "1\n",
      "2\n",
      "Fizz\n",
      "4\n",
      "Buzz\n",
      "Fizz\n",
      "7\n",
      "8\n",
      "Fizz\n",
      "Buzz\n",
      "11\n",
      "Fizz\n",
      "13\n",
      "14\n",
      "FizzBuzz\n",
      "16\n",
      "17\n",
      "Fizz\n",
      "19\n",
      "Buzz\n",
      "Fizz\n",
      "22\n",
      "23\n",
      "Fizz\n",
      "Buzz\n",
      "26\n",
      "Fizz\n",
      "28\n",
      "29\n",
      "FizzBuzz\n",
      "31\n",
      "32\n",
      "Fizz\n",
      "34\n",
      "Buzz\n",
      "Fizz\n",
      "37\n",
      "38\n",
      "Fizz\n",
      "Buzz\n",
      "41\n",
      "Fizz\n",
      "43\n",
      "44\n",
      "FizzBuzz\n",
      "46\n",
      "47\n",
      "Fizz\n",
      "49\n",
      "Buzz\n",
      "Fizz\n",
      "52\n",
      "53\n",
      "Fizz\n",
      "Buzz\n",
      "56\n",
      "Fizz\n",
      "58\n",
      "59\n",
      "FizzBuzz\n",
      "61\n",
      "62\n",
      "Fizz\n",
      "64\n",
      "Buzz\n",
      "Fizz\n",
      "67\n",
      "68\n",
      "Fizz\n",
      "Buzz\n",
      "71\n",
      "Fizz\n",
      "73\n",
      "74\n",
      "FizzBuzz\n",
      "76\n",
      "77\n",
      "Fizz\n",
      "79\n",
      "Buzz\n",
      "Fizz\n",
      "82\n",
      "83\n",
      "Fizz\n",
      "Buzz\n",
      "86\n",
      "Fizz\n",
      "88\n",
      "89\n",
      "FizzBuzz\n",
      "91\n",
      "92\n",
      "Fizz\n",
      "94\n",
      "Buzz\n",
      "Fizz\n",
      "97\n",
      "98\n",
      "Fizz\n",
      "Buzz\n"
     ]
    }
   ],
   "source": [
    "for i in range(1,101):\n",
    "    if i % 3 == 0 and i % 5 == 0:\n",
    "        print(\"FizzBuzz\")\n",
    "    elif i % 3 == 0:\n",
    "        print(\"Fizz\")\n",
    "    elif i%5 ==0:\n",
    "        print(\"Buzz\")\n",
    "    else:\n",
    "        print(i)\n",
    "#We will review all numbers, i, in the range of 1 to 101, not including 101. If the number is a multiple of 3 (i%3==0) and a multiple of 5 (i%5==0), print 'FizzBuzz'.\n",
    "#If the last scenario is false and the number is a multiple of 3, print 'Fizz'.\n",
    "#If the first scenario is false and the number is a multiple of 5, print 'Buzz'.\n",
    "#For all other numbers that do not fit the first three scenarios, just print out the number."
   ]
  },
  {
   "cell_type": "code",
   "execution_count": null,
   "metadata": {},
   "outputs": [],
   "source": []
  }
 ],
 "metadata": {
  "anaconda-cloud": {},
  "kernelspec": {
   "display_name": "Python 3",
   "language": "python",
   "name": "python3"
  },
  "language_info": {
   "codemirror_mode": {
    "name": "ipython",
    "version": 3
   },
   "file_extension": ".py",
   "mimetype": "text/x-python",
   "name": "python",
   "nbconvert_exporter": "python",
   "pygments_lexer": "ipython3",
   "version": "3.6.8"
  }
 },
 "nbformat": 4,
 "nbformat_minor": 2
}
