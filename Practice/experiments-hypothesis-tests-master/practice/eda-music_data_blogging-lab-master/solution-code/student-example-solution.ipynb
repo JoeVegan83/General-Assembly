{
 "cells": [
  {
   "cell_type": "markdown",
   "metadata": {},
   "source": [
    "<img src=\"http://imgur.com/1ZcRyrc.png\" style=\"float: left; margin: 20px; height: 55px\">\n",
    "\n",
    "# Data Manipulation, EDA, and Reporting Results\n",
    "\n",
    "_Authors: Joseph Nelson (DC), Sam Stack (DC)_\n",
    "\n",
    "---\n",
    "\n",
    "> **This lab is intentionally open-ended, and you're encouraged to answer your own questions about the dataset!**\n",
    "\n",
    "\n",
    "### What makes a song a hit?\n",
    "\n",
    "On next week's episode of the 'Are You Entertained?' podcast, we're going to be analyzing the latest generation's guilty pleasure- the music of the '00s. \n",
    "\n",
    "Our Data Scientists have poured through Billboard chart data to analyze what made a hit soar to the top of the charts, and how long they stayed there. Tune in next week for an awesome exploration of music and data as we continue to address an omnipresent question in the industry- why do we like what we like?\n",
    "\n",
    "**Provide (at least) a markdown cell explaining your key learnings about top hits: what are they, what common themes are there, is there a trend among artists (type of music)?**\n",
    "\n",
    "---\n",
    "\n",
    "### Minimum Requirements\n",
    "\n",
    "**At a minimum, you must:**\n",
    "\n",
    "- Use Pandas to read in your data\n",
    "- Rename column names where appropriate\n",
    "- Describe your data: check the value counts and descriptive statistics\n",
    "- Make use of groupby statements\n",
    "- Utilize Boolean sorting\n",
    "- Assess the validity of your data (missing data, distributions?)\n",
    "\n",
    "**You should strive to:**\n",
    "\n",
    "- Produce a blog-post ready description of your lab\n",
    "- State your assumptions about the data\n",
    "- Describe limitations\n",
    "- Consider how you can action this from a stakeholder perspective (radio, record label, fan)\n",
    "- Include visualizations"
   ]
  },
  {
   "cell_type": "code",
   "execution_count": null,
   "metadata": {},
   "outputs": [],
   "source": [
    "import matplotlib.pyplot as plt\n",
    "import numpy as np\n",
    "import pandas as pd\n",
    "import seaborn as sns\n",
    "import scipy.stats as stats\n",
    "\n",
    "plt.style.use('fivethirtyeight')\n",
    "\n",
    "%matplotlib inline\n",
    "%config InlineBackend.figure_format = 'retina'\n",
    "\n",
    "# Billboard data CSV:\n",
    "billboard_csv = '../datasets/billboard.csv'"
   ]
  },
  {
   "cell_type": "markdown",
   "metadata": {},
   "source": [
    "----"
   ]
  },
  {
   "cell_type": "markdown",
   "metadata": {},
   "source": [
    "##### Use Pandas to read in your data"
   ]
  },
  {
   "cell_type": "code",
   "execution_count": null,
   "metadata": {},
   "outputs": [],
   "source": [
    "import numpy as np\n",
    "import pandas as pd\n",
    "\n",
    "music = pd.read_csv(billboard_csv, encoding='latin-1')"
   ]
  },
  {
   "cell_type": "code",
   "execution_count": null,
   "metadata": {},
   "outputs": [],
   "source": [
    "print(len(music))\n",
    "# This Dataset has 317 values"
   ]
  },
  {
   "cell_type": "code",
   "execution_count": null,
   "metadata": {},
   "outputs": [],
   "source": [
    "# You can run this cell if you don't believe me\n",
    "music.isnull().sum()"
   ]
  },
  {
   "cell_type": "markdown",
   "metadata": {},
   "source": [
    "Given that there are 317 observations in this dataset and for weeks 66-76 there are 317 nulls, It is safe to assume that those weeks can be dropped because they contain no relevant information.  "
   ]
  },
  {
   "cell_type": "markdown",
   "metadata": {},
   "source": [
    "##### Rename column names where appropriate"
   ]
  },
  {
   "cell_type": "code",
   "execution_count": null,
   "metadata": {},
   "outputs": [],
   "source": [
    "# creating a list of week names that arn't crap\n",
    "week = 1\n",
    "week_list = []\n",
    "while week < 77:\n",
    "    week_num = 'week '+ str(week)\n",
    "    week_list.append(week_num)\n",
    "    week += 1"
   ]
  },
  {
   "cell_type": "markdown",
   "metadata": {},
   "source": [
    "Week_list is a list that states weeks as 'week x' to be appeneded to the silly way the variables are currently displayed.\n",
    "\n",
    "Other than the weeks, the other features are ... \n",
    "['year', 'artist.inverted', 'track', 'time', 'genre', 'date.entered', 'date.peaked']\n",
    "\n",
    "Im going to change them to...\n",
    "['year','artist','track', 'length','genre','first_apperence','peak_date']"
   ]
  },
  {
   "cell_type": "code",
   "execution_count": null,
   "metadata": {},
   "outputs": [],
   "source": [
    "names = ['year','artist','track', 'length','genre','first_apperence','highest_data']\n",
    "\n",
    "for item in week_list:\n",
    "    names.append(item)"
   ]
  },
  {
   "cell_type": "code",
   "execution_count": null,
   "metadata": {},
   "outputs": [],
   "source": [
    "# Renaming the columns\n",
    "music.columns = names"
   ]
  },
  {
   "cell_type": "code",
   "execution_count": null,
   "metadata": {},
   "outputs": [],
   "source": [
    "# dropping all those columns with zero values in them.\n",
    "music.drop(['week 66','week 67','week 68','week 69','week 70','week 71',\n",
    "           'week 72','week 73','week 74','week 74','week 75','week 76'],\n",
    "           axis =1,inplace = True)"
   ]
  },
  {
   "cell_type": "code",
   "execution_count": null,
   "metadata": {},
   "outputs": [],
   "source": [
    "# getting only the columns that correspond to weekly ratings\n",
    "music[music.columns[7:72]].count(axis=1)\n",
    "\n",
    "# Creates a dataframe column called 'weeks_active' that is the number of weeks the song is on the top 100\n",
    "music['weeks_active'] = music[music.columns[7:72]].count(axis=1)\n",
    "\n",
    "\n",
    "# there are 65 posible weeks a song can be active and df.count() returns the sum of null values"
   ]
  },
  {
   "cell_type": "markdown",
   "metadata": {},
   "source": [
    "##### Describe your data: check the value counts and descriptive statistics"
   ]
  },
  {
   "cell_type": "code",
   "execution_count": null,
   "metadata": {},
   "outputs": [],
   "source": [
    "music.describe()\n",
    "#not exactly the most useful\n"
   ]
  },
  {
   "cell_type": "code",
   "execution_count": null,
   "metadata": {},
   "outputs": [],
   "source": [
    "# I wonder What musicians were on the board the most in 2000?\n",
    "music['artist'].value_counts().head(10)"
   ]
  },
  {
   "cell_type": "code",
   "execution_count": null,
   "metadata": {},
   "outputs": [],
   "source": [
    "# Wow, sure looks like Country and HipHop dominate the chart.  \n",
    "# Lets see what distribution of songs that make it to the top 100 are\n",
    "\n",
    "music['genre'].value_counts()"
   ]
  },
  {
   "cell_type": "code",
   "execution_count": null,
   "metadata": {},
   "outputs": [],
   "source": [
    "# Getting a dataframe that will only be used for a plot\n",
    "plot_frame = music[['genre','weeks_active']]"
   ]
  },
  {
   "cell_type": "markdown",
   "metadata": {},
   "source": [
    "Going to try to plot average length on top 100 by genre.\n"
   ]
  },
  {
   "cell_type": "code",
   "execution_count": null,
   "metadata": {},
   "outputs": [],
   "source": [
    "# Stacking distribution of of songs lifes grouped by genre(color) \n",
    "import matplotlib.pyplot as plt\n",
    "import seaborn as sns\n",
    "plt.style.use('seaborn')\n",
    "genres = ['Rock','Country','Rap','R&B']\n",
    "\n",
    "for m_type in genres:\n",
    "    sub_df = plot_frame[plot_frame['genre']== m_type]\n",
    "    sns.distplot(sub_df['weeks_active'])\n",
    "\n",
    "plt.show()"
   ]
  },
  {
   "cell_type": "markdown",
   "metadata": {},
   "source": [
    "- Green = Country\n",
    "- Blue = Rock\n",
    "- Red = Rap\n",
    "- Purple = R&B\n",
    "\n"
   ]
  },
  {
   "cell_type": "markdown",
   "metadata": {},
   "source": [
    "##### Addressing* Validity of data"
   ]
  },
  {
   "cell_type": "code",
   "execution_count": null,
   "metadata": {},
   "outputs": [],
   "source": [
    "# Making a DF copy where all the Nulls are filled with 0's\n",
    "music2 = music.fillna(value = 0)"
   ]
  },
  {
   "cell_type": "code",
   "execution_count": null,
   "metadata": {},
   "outputs": [],
   "source": [
    "# Engineered column displaying a songs average weekly rating.\n",
    "music['avg_weekly_rating'] = music2[music2.columns[7:73]].sum(axis =1)/music2['weeks_active']"
   ]
  },
  {
   "cell_type": "code",
   "execution_count": null,
   "metadata": {},
   "outputs": [],
   "source": [
    "# Before I continue. lets check out the average_weekly rating grouped by Genre\n",
    "music.groupby(['genre'])['avg_weekly_rating'].mean()"
   ]
  },
  {
   "cell_type": "code",
   "execution_count": null,
   "metadata": {},
   "outputs": [],
   "source": [
    "music['median_weekly_rating'] = music[music.columns[7:73]].median(axis =1)"
   ]
  },
  {
   "cell_type": "code",
   "execution_count": null,
   "metadata": {},
   "outputs": [],
   "source": [
    "# Plotting the weekly mean rating by weeks active.  Color is genre\n",
    "sns.lmplot(x = 'weeks_active',y ='avg_weekly_rating', hue = 'genre', data = music, fit_reg=False);"
   ]
  },
  {
   "cell_type": "code",
   "execution_count": null,
   "metadata": {},
   "outputs": [],
   "source": [
    "# Plotting the median rating as well so we can see if the datas medians and means are vastly different.\n",
    "sns.lmplot(x='weeks_active', y='median_weekly_rating', hue = 'genre', data = music, fit_reg=False);"
   ]
  },
  {
   "cell_type": "markdown",
   "metadata": {},
   "source": [
    "##### Stakeholder Insights\n",
    "As clear from the visualizations, 20 weeks active seems to be where alot of songs hover.  A goal by a record label to have a song stay in the top 100 for more than 20 weeks would be beneficial as songs that maintain activity longer than 20 weeks on average recieve better ratings.  \n",
    "\n",
    "##### Yearly Insights\n",
    "Rock dominates those songs that maintain long lifes on the top 100 and coincidentally are also those with the best weekly ratings.\n",
    "\n",
    "##### idk\n",
    "While Rock music seems to have the most songs appear within the top 100, longest lifestyle and average weekly rating, no rock group appears in the top 10 most frequent artists.\n",
    "\n",
    "##### Data Limitations\n",
    "It would be nice to have additional years of information."
   ]
  },
  {
   "cell_type": "markdown",
   "metadata": {},
   "source": [
    "---"
   ]
  },
  {
   "cell_type": "markdown",
   "metadata": {},
   "source": [
    "**Lifestyle Plotter**  \n",
    "Calling the function below will return a chart of any songs life trend.  This is case sensitive so make sure your song is typed exactly as it appears in the dataframe.\n",
    "\n",
    "There is an example below"
   ]
  },
  {
   "cell_type": "code",
   "execution_count": null,
   "metadata": {},
   "outputs": [],
   "source": [
    "def song_life(title):\n",
    "    plt.style.use('seaborn')\n",
    "    \n",
    "    # Grab the column to plot \n",
    "    samp = music[music['track'] == title][music[music['track'] == title].columns[7:72]]\n",
    "    \n",
    "    # Drop null values\n",
    "    samp.dropna(axis=1, inplace = True)\n",
    "    \n",
    "    # Transpose the matrix\n",
    "    samp_t = samp.transpose()\n",
    "    \n",
    "    # Reset index twice to get a column where week is listed as an int value for plotting\n",
    "    samp_t.reset_index(inplace = True)\n",
    "    samp_t.reset_index(inplace = True)\n",
    "    \n",
    "    # Rename the columns\n",
    "    samp_t.columns = ['Week','numbered_week','Rating']\n",
    "    \n",
    "    # Plot it!\n",
    "    plt.plot((samp_t['Week']+1),samp_t['Rating'])\n",
    "    plt.xlabel('Weeks in Top 100')\n",
    "    plt.ylabel('Weekly Rating')\n",
    "    plt.gca().invert_yaxis()\n",
    "\n"
   ]
  },
  {
   "cell_type": "code",
   "execution_count": null,
   "metadata": {},
   "outputs": [],
   "source": [
    "song_life('Kryptonite')"
   ]
  },
  {
   "cell_type": "markdown",
   "metadata": {
    "collapsed": true
   },
   "source": [
    "** Additional Ideas/Actions**\n",
    "- Time it takes a song to get to the top.\n",
    "- Converting song time to an actual time (from a string)\n",
    "- Weekly Average Rating\n",
    "- How many weeks a song was number 1 \n",
    "- Get the correct genre for each artist\n",
    "- Word that appears most often in song Names\n",
    "- Entry level rating of Genre\n",
    "- Time to peak grouped by Genre\n",
    "- Visualize the lifecycle of a song (average)"
   ]
  },
  {
   "cell_type": "code",
   "execution_count": null,
   "metadata": {},
   "outputs": [],
   "source": []
  }
 ],
 "metadata": {
  "anaconda-cloud": {},
  "kernelspec": {
   "display_name": "Python 3",
   "language": "python",
   "name": "python3"
  },
  "language_info": {
   "codemirror_mode": {
    "name": "ipython",
    "version": 3
   },
   "file_extension": ".py",
   "mimetype": "text/x-python",
   "name": "python",
   "nbconvert_exporter": "python",
   "pygments_lexer": "ipython3",
   "version": "3.6.4"
  }
 },
 "nbformat": 4,
 "nbformat_minor": 1
}
